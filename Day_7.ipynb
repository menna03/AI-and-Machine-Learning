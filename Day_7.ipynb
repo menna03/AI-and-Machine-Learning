{
  "nbformat": 4,
  "nbformat_minor": 0,
  "metadata": {
    "colab": {
      "provenance": []
    },
    "kernelspec": {
      "name": "python3",
      "display_name": "Python 3"
    },
    "language_info": {
      "name": "python"
    }
  },
  "cells": [
    {
      "cell_type": "markdown",
      "source": [
        "# 6"
      ],
      "metadata": {
        "id": "Qt5iCKlpGLYb"
      }
    },
    {
      "cell_type": "markdown",
      "source": [
        "## Task 1"
      ],
      "metadata": {
        "id": "6eaFTpRoHLm2"
      }
    },
    {
      "cell_type": "code",
      "source": [
        "import numpy as np\n",
        "\n",
        "# Hidden states\n",
        "states = ['Rainy', 'Sunny']\n",
        "n_states = len(states)\n",
        "\n",
        "# Observations\n",
        "observations = ['no umbrella', 'umbrella', 'no umbrella', 'umbrella', 'no umbrella', 'no umbrella']\n",
        "n_observations = len(observations)\n",
        "\n",
        "# Markov chain transition probabilities\n",
        "transition_prob = np.array([[0.7, 0.3],    # P(Rainy->Rainy, Rainy->Sunny)\n",
        "                            [0.4, 0.6]])   # P(Sunny->Rainy, Sunny->Sunny)\n",
        "\n",
        "# Sensor model (emission probabilities)\n",
        "emission_prob = np.array([[0.9, 0.1],    # P(no umbrella|Rainy), P(umbrella|Rainy)\n",
        "                          [0.2, 0.8]])   # P(no umbrella|Sunny), P(umbrella|Sunny)\n",
        "\n",
        "# Initial state probability distribution\n",
        "initial_prob = np.array([0.5, 0.5])  # P(Rainy), P(Sunny)\n",
        "\n",
        "# Viterbi algorithm\n",
        "def viterbi(obs, states, start_prob, trans_prob, emit_prob):\n",
        "    n_states = len(states)\n",
        "    n_obs = len(obs)\n",
        "    viterbi_matrix = np.zeros((n_states, n_obs))\n",
        "    path_matrix = np.zeros((n_states, n_obs), dtype=int)\n",
        "\n",
        "    # Initialization step\n",
        "    viterbi_matrix[:, 0] = start_prob * emit_prob[:, obs[0]]\n",
        "\n",
        "    # Recursion step\n",
        "    for t in range(1, n_obs):\n",
        "        for s in range(n_states):\n",
        "            prob = viterbi_matrix[:, t-1] * trans_prob[:, s] * emit_prob[s, obs[t]]\n",
        "            viterbi_matrix[s, t] = np.max(prob)\n",
        "            path_matrix[s, t] = np.argmax(prob)\n",
        "\n",
        "    # Termination step\n",
        "    best_path = np.zeros(n_obs, dtype=int)\n",
        "    best_path[-1] = np.argmax(viterbi_matrix[:, -1])\n",
        "\n",
        "    for t in range(n_obs-2, -1, -1):\n",
        "        best_path[t] = path_matrix[best_path[t+1], t+1]\n",
        "\n",
        "    best_sequence = [states[state] for state in best_path]\n",
        "    return best_sequence\n",
        "\n",
        "# Convert observations to indices\n",
        "obs_indices = [0 if obs == 'no umbrella' else 1 for obs in observations]\n",
        "\n",
        "# Run Viterbi algorithm\n",
        "most_likely_sequence = viterbi(obs_indices, states, initial_prob, transition_prob, emission_prob)\n",
        "\n",
        "print(\"Most likely sequence of states:\")\n",
        "print(most_likely_sequence)\n"
      ],
      "metadata": {
        "colab": {
          "base_uri": "https://localhost:8080/"
        },
        "id": "7SSOoVVlGNDG",
        "outputId": "91178fa1-53e9-4f51-9e2e-cbfce10ab7ee"
      },
      "execution_count": null,
      "outputs": [
        {
          "output_type": "stream",
          "name": "stdout",
          "text": [
            "Most likely sequence of states:\n",
            "['Rainy', 'Sunny', 'Rainy', 'Sunny', 'Rainy', 'Rainy']\n"
          ]
        }
      ]
    },
    {
      "cell_type": "code",
      "source": [
        "import numpy as np\n",
        "\n",
        "# Define the states and observations\n",
        "states = ['Rainy', 'Sunny']\n",
        "n_states = len(states)\n",
        "\n",
        "observations = ['no umbrella', 'umbrella', 'no umbrella', 'umbrella', 'no umbrella', 'no umbrella']\n",
        "n_observations = len(observations)\n",
        "\n",
        "# Transition probabilities (Markov chain)\n",
        "transition_prob = np.array([[0.7, 0.3],    # P(Rainy -> Rainy), P(Rainy -> Sunny)\n",
        "                            [0.4, 0.6]])   # P(Sunny -> Rainy), P(Sunny -> Sunny)\n",
        "\n",
        "# Emission probabilities (Sensor model)\n",
        "emission_prob = np.array([[0.9, 0.1],    # P(no umbrella | Rainy), P(umbrella | Rainy)\n",
        "                          [0.2, 0.8]])   # P(no umbrella | Sunny), P(umbrella | Sunny)\n",
        "\n",
        "# Initial state probabilities\n",
        "initial_prob = np.array([0.5, 0.5])  # P(Rainy), P(Sunny)\n",
        "\n",
        "# Viterbi algorithm\n",
        "def viterbi(obs, states, start_prob, trans_prob, emit_prob):\n",
        "    n_states = len(states)\n",
        "    n_obs = len(obs)\n",
        "\n",
        "    # Initialize the Viterbi matrix and path matrix\n",
        "    viterbi_matrix = np.zeros((n_states, n_obs))\n",
        "    path_matrix = np.zeros((n_states, n_obs), dtype=int)\n",
        "\n",
        "    # Initialization step\n",
        "    viterbi_matrix[:, 0] = start_prob * emit_prob[:, obs[0]]\n",
        "\n",
        "    # Recursion step\n",
        "    for t in range(1, n_obs):\n",
        "        for s in range(n_states):\n",
        "            prob = viterbi_matrix[:, t-1] * trans_prob[:, s] * emit_prob[s, obs[t]]\n",
        "            viterbi_matrix[s, t] = np.max(prob)\n",
        "            path_matrix[s, t] = np.argmax(prob)\n",
        "\n",
        "    # Termination step\n",
        "    best_path = np.zeros(n_obs, dtype=int)\n",
        "    best_path[-1] = np.argmax(viterbi_matrix[:, -1])\n",
        "\n",
        "    for t in range(n_obs-2, -1, -1):\n",
        "        best_path[t] = path_matrix[best_path[t+1], t+1]\n",
        "\n",
        "    best_sequence = [states[state] for state in best_path]\n",
        "    return best_sequence\n",
        "\n",
        "# Convert observations to indices (0: no umbrella, 1: umbrella)\n",
        "obs_indices = [0 if obs == 'no umbrella' else 1 for obs in observations]\n",
        "\n",
        "# Run Viterbi algorithm\n",
        "most_likely_sequence = viterbi(obs_indices, states, initial_prob, transition_prob, emission_prob)\n",
        "\n",
        "print(\"Most likely sequence of hidden states:\")\n",
        "print(most_likely_sequence)\n"
      ],
      "metadata": {
        "colab": {
          "base_uri": "https://localhost:8080/"
        },
        "id": "qhpqlwS2HtVN",
        "outputId": "64abe012-5636-41bf-bcd8-a74dbacd6e97"
      },
      "execution_count": null,
      "outputs": [
        {
          "output_type": "stream",
          "name": "stdout",
          "text": [
            "Most likely sequence of hidden states:\n",
            "['Rainy', 'Sunny', 'Rainy', 'Sunny', 'Rainy', 'Rainy']\n"
          ]
        }
      ]
    },
    {
      "cell_type": "markdown",
      "source": [
        "## Task 2"
      ],
      "metadata": {
        "id": "2Y8gJ2ySHOkA"
      }
    },
    {
      "cell_type": "code",
      "source": [
        "import pyAgrum as gum\n",
        "\n",
        "# Create a Bayesian Network\n",
        "bn = gum.BayesNet('StudentMarks')\n",
        "\n",
        "# Add nodes (variables)\n",
        "exam_level = bn.add(gum.LabelizedVariable('exam_level', 'Exam Level', 2))  # 0: Easy, 1: Difficult\n",
        "iq_level = bn.add(gum.LabelizedVariable('iq_level', 'IQ Level', 2))        # 0: Low, 1: High\n",
        "aptitude_score = bn.add(gum.LabelizedVariable('aptitude_score', 'Aptitude Score', 2))  # 0: Low, 1: High\n",
        "marks = bn.add(gum.LabelizedVariable('marks', 'Marks', 2))                # 0: Fail, 1: Pass\n",
        "admission = bn.add(gum.LabelizedVariable('admission', 'Admission', 2))    # 0: No, 1: Yes\n",
        "\n",
        "# Add arcs (dependencies)\n",
        "bn.addArc(exam_level, marks)\n",
        "bn.addArc(iq_level, marks)\n",
        "bn.addArc(iq_level, aptitude_score)\n",
        "bn.addArc(marks, admission)\n",
        "\n",
        "# Define the CPTs (Conditional Probability Tables)\n",
        "bn.cpt(exam_level).fillWith([0.5, 0.5])  # P(Exam Level) [Easy, Difficult]\n",
        "bn.cpt(iq_level).fillWith([0.5, 0.5])    # P(IQ Level) [Low, High]\n",
        "\n",
        "# P(Aptitude Score | IQ Level)\n",
        "bn.cpt(aptitude_score)[{'iq_level': 0}] = [0.7, 0.3]  # Low IQ -> Low Aptitude Score\n",
        "bn.cpt(aptitude_score)[{'iq_level': 1}] = [0.4, 0.6]  # High IQ -> High Aptitude Score\n",
        "\n",
        "# P(Marks | Exam Level, IQ Level)\n",
        "bn.cpt(marks)[{'exam_level': 0, 'iq_level': 0}] = [0.8, 0.2]  # Easy, Low IQ -> Pass\n",
        "bn.cpt(marks)[{'exam_level': 0, 'iq_level': 1}] = [0.6, 0.4]  # Easy, High IQ -> Pass\n",
        "bn.cpt(marks)[{'exam_level': 1, 'iq_level': 0}] = [0.3, 0.7]  # Difficult, Low IQ -> Pass\n",
        "bn.cpt(marks)[{'exam_level': 1, 'iq_level': 1}] = [0.1, 0.9]  # Difficult, High IQ -> Pass\n",
        "\n",
        "# P(Admission | Marks)\n",
        "bn.cpt(admission)[{'marks': 0}] = [0.9, 0.1]  # Fail -> Admission unlikely\n",
        "bn.cpt(admission)[{'marks': 1}] = [0.4, 0.6]  # Pass -> Admission more likely\n",
        "\n",
        "# Perform inference\n",
        "model = gum.LazyPropagation(bn)\n",
        "model.makeInference()\n",
        "\n",
        "# Case 1: Exam Difficult, Low IQ, Low Aptitude Score, Probability of passing and getting admission\n",
        "model.setEvidence({'exam_level': 1, 'iq_level': 0, 'aptitude_score': 0})\n",
        "prob_case_1 = model.posterior('admission')[1]\n",
        "print(f\"Case 1: Probability of passing and securing admission: {prob_case_1:.4f}\")\n",
        "\n",
        "# Case 2: Exam Easy, High IQ, High Aptitude Score, Probability of failing and not getting admission\n",
        "model.setEvidence({'exam_level': 0, 'iq_level': 1, 'aptitude_score': 1})\n",
        "prob_case_2 = model.posterior('admission')[0]\n",
        "print(f\"Case 2: Probability of failing and not securing admission: {prob_case_2:.4f}\")\n"
      ],
      "metadata": {
        "colab": {
          "base_uri": "https://localhost:8080/"
        },
        "id": "upBL-T-1HBJN",
        "outputId": "088fa5b5-de45-42a6-9803-78f41d5af6ee"
      },
      "execution_count": null,
      "outputs": [
        {
          "output_type": "stream",
          "name": "stdout",
          "text": [
            "Case 1: Probability of passing and securing admission: 0.4500\n",
            "Case 2: Probability of failing and not securing admission: 0.7000\n"
          ]
        }
      ]
    },
    {
      "cell_type": "code",
      "source": [
        "import pyAgrum as gum\n",
        "\n",
        "# Create a Bayesian Network\n",
        "bn = gum.BayesNet('StudentMarks')\n",
        "\n",
        "# Add nodes (variables)\n",
        "exam_level = bn.add(gum.LabelizedVariable('exam_level', 'Exam Level', 2))  # 0: Easy, 1: Difficult\n",
        "iq_level = bn.add(gum.LabelizedVariable('iq_level', 'IQ Level', 2))        # 0: Low, 1: High\n",
        "aptitude_score = bn.add(gum.LabelizedVariable('aptitude_score', 'Aptitude Score', 2))  # 0: Low, 1: High\n",
        "marks = bn.add(gum.LabelizedVariable('marks', 'Marks', 2))                # 0: Fail, 1: Pass\n",
        "admission = bn.add(gum.LabelizedVariable('admission', 'Admission', 2))    # 0: No, 1: Yes\n",
        "\n",
        "# Add arcs (dependencies)\n",
        "bn.addArc(exam_level, marks)\n",
        "bn.addArc(iq_level, marks)\n",
        "bn.addArc(iq_level, aptitude_score)\n",
        "bn.addArc(marks, admission)\n",
        "\n",
        "# Define the CPTs (Conditional Probability Tables)\n",
        "bn.cpt(exam_level).fillWith([0.5, 0.5])  # P(Exam Level) [Easy, Difficult]\n",
        "bn.cpt(iq_level).fillWith([0.5, 0.5])    # P(IQ Level) [Low, High]\n",
        "\n",
        "# P(Aptitude Score | IQ Level)\n",
        "bn.cpt(aptitude_score)[{'iq_level': 0}] = [0.7, 0.3]  # Low IQ -> Low Aptitude Score\n",
        "bn.cpt(aptitude_score)[{'iq_level': 1}] = [0.4, 0.6]  # High IQ -> High Aptitude Score\n",
        "\n",
        "# P(Marks | Exam Level, IQ Level)\n",
        "bn.cpt(marks)[{'exam_level': 0, 'iq_level': 0}] = [0.8, 0.2]  # Easy, Low IQ -> Pass\n",
        "bn.cpt(marks)[{'exam_level': 0, 'iq_level': 1}] = [0.6, 0.4]  # Easy, High IQ -> Pass\n",
        "bn.cpt(marks)[{'exam_level': 1, 'iq_level': 0}] = [0.3, 0.7]  # Difficult, Low IQ -> Pass\n",
        "bn.cpt(marks)[{'exam_level': 1, 'iq_level': 1}] = [0.1, 0.9]  # Difficult, High IQ -> Pass\n",
        "\n",
        "# P(Admission | Marks)\n",
        "bn.cpt(admission)[{'marks': 0}] = [0.9, 0.1]  # Fail -> Admission unlikely\n",
        "bn.cpt(admission)[{'marks': 1}] = [0.4, 0.6]  # Pass -> Admission more likely\n",
        "\n",
        "# Perform inference\n",
        "model = gum.LazyPropagation(bn)\n",
        "model.makeInference()\n",
        "\n",
        "# Case 1: Exam Difficult, Low IQ, Low Aptitude Score, Probability of passing and getting admission\n",
        "model.setEvidence({'exam_level': 1, 'iq_level': 0, 'aptitude_score': 0})\n",
        "prob_case_1 = model.posterior('admission')[1]\n",
        "print(f\"Case 1: Probability of passing and securing admission: {prob_case_1:.4f}\")\n",
        "\n",
        "# Case 2: Exam Easy, High IQ, High Aptitude Score, Probability of failing and not getting admission\n",
        "model.setEvidence({'exam_level': 0, 'iq_level': 1, 'aptitude_score': 1})\n",
        "prob_case_2 = model.posterior('admission')[0]\n",
        "print(f\"Case 2: Probability of failing and not securing admission: {prob_case_2:.4f}\")\n"
      ],
      "metadata": {
        "colab": {
          "base_uri": "https://localhost:8080/"
        },
        "id": "srw5hOUGHBML",
        "outputId": "ab752841-05b9-47ba-edcb-c01efaeb3284"
      },
      "execution_count": null,
      "outputs": [
        {
          "output_type": "stream",
          "name": "stdout",
          "text": [
            "Case 1: Probability of passing and securing admission: 0.4500\n",
            "Case 2: Probability of failing and not securing admission: 0.7000\n"
          ]
        }
      ]
    }
  ]
}