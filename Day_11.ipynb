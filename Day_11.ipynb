{
  "nbformat": 4,
  "nbformat_minor": 0,
  "metadata": {
    "colab": {
      "provenance": []
    },
    "kernelspec": {
      "name": "python3",
      "display_name": "Python 3"
    },
    "language_info": {
      "name": "python"
    }
  },
  "cells": [
    {
      "cell_type": "markdown",
      "source": [
        "#11\n"
      ],
      "metadata": {
        "id": "YpIo6hrRJYzw"
      }
    },
    {
      "cell_type": "code",
      "source": [
        "pip install rarfile\n"
      ],
      "metadata": {
        "colab": {
          "base_uri": "https://localhost:8080/"
        },
        "id": "xFY4nVCrOejC",
        "outputId": "db8ca6f7-07a2-4049-ea2e-baedac5af3cb"
      },
      "execution_count": null,
      "outputs": [
        {
          "output_type": "stream",
          "name": "stdout",
          "text": [
            "Collecting rarfile\n",
            "  Downloading rarfile-4.2-py3-none-any.whl.metadata (4.4 kB)\n",
            "Downloading rarfile-4.2-py3-none-any.whl (29 kB)\n",
            "Installing collected packages: rarfile\n",
            "Successfully installed rarfile-4.2\n"
          ]
        }
      ]
    },
    {
      "cell_type": "code",
      "source": [
        "import rarfile\n",
        "\n",
        "# Define path to the .rar file and extraction directory\n",
        "rar_path = '/content/BrainTumor.rar'\n",
        "extraction_dir = '/content/BrainTumor/'\n",
        "\n",
        "# Create extraction directory if it doesn't exist\n",
        "if not os.path.exists(extraction_dir):\n",
        "    os.makedirs(extraction_dir)\n",
        "\n",
        "# Extract the .rar file\n",
        "with rarfile.RarFile(rar_path) as rf:\n",
        "    rf.extractall(extraction_dir)\n",
        "\n",
        "print(\"Extraction complete.\")\n"
      ],
      "metadata": {
        "colab": {
          "base_uri": "https://localhost:8080/"
        },
        "id": "tbA_3nPUOeli",
        "outputId": "4fe43068-7da7-434e-c937-0fa92f1cf290"
      },
      "execution_count": null,
      "outputs": [
        {
          "output_type": "stream",
          "name": "stdout",
          "text": [
            "Extraction complete.\n"
          ]
        }
      ]
    },
    {
      "cell_type": "code",
      "source": [
        "import numpy as np\n",
        "import cv2\n",
        "import os\n",
        "from sklearn.model_selection import train_test_split\n",
        "from sklearn.preprocessing import LabelEncoder\n",
        "\n",
        "# Define the paths to the directories containing the images\n",
        "path_no = '/content/BrainTumor/BrainTumor/brain_tumor_dataset/no'\n",
        "path_yes = '/content/BrainTumor/BrainTumor/brain_tumor_dataset/yes'\n",
        "\n",
        "def extract_features_and_labels(path_no, path_yes):\n",
        "    features = []\n",
        "    labels = []\n",
        "\n",
        "    # Process \"no\" images\n",
        "    for filename in os.listdir(path_no):\n",
        "        if filename.endswith('.jpg') or filename.endswith('.png'):\n",
        "            img = cv2.imread(os.path.join(path_no, filename), cv2.IMREAD_GRAYSCALE)\n",
        "            if img is not None:\n",
        "                img = cv2.resize(img, (64, 64))  # Resize to a fixed size\n",
        "                features.append(img.flatten())\n",
        "                labels.append(0)  # Label for \"no\" class\n",
        "\n",
        "    # Process \"yes\" images\n",
        "    for filename in os.listdir(path_yes):\n",
        "        if filename.endswith('.jpg') or filename.endswith('.png'):\n",
        "            img = cv2.imread(os.path.join(path_yes, filename), cv2.IMREAD_GRAYSCALE)\n",
        "            if img is not None:\n",
        "                img = cv2.resize(img, (64, 64))  # Resize to a fixed size\n",
        "                features.append(img.flatten())\n",
        "                labels.append(1)  # Label for \"yes\" class\n",
        "\n",
        "    return np.array(features), np.array(labels)\n",
        "\n",
        "# Extract features and labels\n",
        "features, labels = extract_features_and_labels(path_no, path_yes)\n",
        "\n",
        "# Split dataset\n",
        "X_train, X_test, y_train, y_test = train_test_split(features, labels, test_size=0.2, random_state=42)\n",
        "\n",
        "print(\"Data extraction and preparation complete.\")\n"
      ],
      "metadata": {
        "colab": {
          "base_uri": "https://localhost:8080/"
        },
        "id": "F4QliARpOeoS",
        "outputId": "924718ff-0215-4eaa-a956-36665080c819"
      },
      "execution_count": null,
      "outputs": [
        {
          "output_type": "stream",
          "name": "stdout",
          "text": [
            "Data extraction and preparation complete.\n"
          ]
        }
      ]
    },
    {
      "cell_type": "code",
      "source": [],
      "metadata": {
        "id": "lF3RjBEVOerc"
      },
      "execution_count": null,
      "outputs": []
    },
    {
      "cell_type": "code",
      "source": [],
      "metadata": {
        "id": "LpMNUNy4OeuK"
      },
      "execution_count": null,
      "outputs": []
    },
    {
      "cell_type": "code",
      "source": [
        "import numpy as np\n",
        "import cv2\n",
        "import os\n",
        "from sklearn.model_selection import train_test_split\n",
        "from sklearn.preprocessing import LabelEncoder\n",
        "\n",
        "# Define the paths to the directories containing the images\n",
        "path_no = '/content/BrainTumor/BrainTumor/brain_tumor_dataset/no'\n",
        "path_yes = '/content/BrainTumor/BrainTumor/brain_tumor_dataset/yes'\n",
        "\n",
        "def extract_features_and_labels(path_no, path_yes):\n",
        "    features = []\n",
        "    labels = []\n",
        "\n",
        "    # Process \"no\" images\n",
        "    for filename in os.listdir(path_no):\n",
        "        if filename.endswith('.jpg') or filename.endswith('.png'):\n",
        "            img = cv2.imread(os.path.join(path_no, filename), cv2.IMREAD_GRAYSCALE)\n",
        "            if img is not None:\n",
        "                img = cv2.resize(img, (64, 64))  # Resize to a fixed size\n",
        "                features.append(img.flatten())\n",
        "                labels.append(0)  # Label for \"no\" class\n",
        "\n",
        "    # Process \"yes\" images\n",
        "    for filename in os.listdir(path_yes):\n",
        "        if filename.endswith('.jpg') or filename.endswith('.png'):\n",
        "            img = cv2.imread(os.path.join(path_yes, filename), cv2.IMREAD_GRAYSCALE)\n",
        "            if img is not None:\n",
        "                img = cv2.resize(img, (64, 64))  # Resize to a fixed size\n",
        "                features.append(img.flatten())\n",
        "                labels.append(1)  # Label for \"yes\" class\n",
        "\n",
        "    return np.array(features), np.array(labels)\n",
        "\n",
        "# Extract features and labels\n",
        "features, labels = extract_features_and_labels(path_no, path_yes)\n",
        "\n",
        "# Split dataset\n",
        "X_train, X_test, y_train, y_test = train_test_split(features, labels, test_size=0.2, random_state=42)\n"
      ],
      "metadata": {
        "id": "MofBAL1dI-XM"
      },
      "execution_count": null,
      "outputs": []
    },
    {
      "cell_type": "code",
      "source": [
        "import numpy as np\n",
        "import pandas as pd\n",
        "from sklearn.neighbors import KNeighborsClassifier\n",
        "from sklearn.tree import DecisionTreeClassifier\n",
        "from sklearn.naive_bayes import GaussianNB\n",
        "from sklearn.metrics import confusion_matrix, classification_report, accuracy_score, f1_score, precision_score, recall_score\n",
        "from sklearn.model_selection import cross_val_score, KFold\n",
        "\n",
        "# Initialize models\n",
        "knn = KNeighborsClassifier(n_neighbors=5)\n",
        "decision_tree = DecisionTreeClassifier()\n",
        "naive_bayes = GaussianNB()\n",
        "\n",
        "# Define K-Fold Cross-Validation\n",
        "kf = KFold(n_splits=10, shuffle=True, random_state=42)\n",
        "\n",
        "# Function to evaluate models\n",
        "def evaluate_model(model, X_train, y_train, X_test, y_test):\n",
        "    model.fit(X_train, y_train)\n",
        "    y_pred = model.predict(X_test)\n",
        "\n",
        "    accuracy = accuracy_score(y_test, y_pred)\n",
        "    conf_matrix = confusion_matrix(y_test, y_pred)\n",
        "    f1 = f1_score(y_test, y_pred)\n",
        "    precision = precision_score(y_test, y_pred)\n",
        "    recall = recall_score(y_test, y_pred)\n",
        "\n",
        "    print(f\"{model.__class__.__name__}:\")\n",
        "    print(\"Accuracy:\", accuracy)\n",
        "    print(\"Confusion Matrix:\\n\", conf_matrix)\n",
        "    print(\"F1 Score:\", f1)\n",
        "    print(\"Precision:\", precision)\n",
        "    print(\"Recall:\", recall)\n",
        "    print()\n",
        "\n",
        "    # K-Fold Cross-Validation\n",
        "    cv_scores = cross_val_score(model, features, labels, cv=kf)\n",
        "    print(f\"Cross-Validation Scores (K-Fold): {cv_scores}\")\n",
        "    print(f\"Mean CV Accuracy: {np.mean(cv_scores)}\")\n",
        "    print(\"===\"*10)\n",
        "\n",
        "    return accuracy, conf_matrix, f1, precision, recall, cv_scores\n",
        "\n",
        "\n"
      ],
      "metadata": {
        "id": "Y_bfvqvQNicd"
      },
      "execution_count": null,
      "outputs": []
    },
    {
      "cell_type": "code",
      "source": [
        "# Evaluate each model\n",
        "evaluate_model(knn, X_train, y_train, X_test, y_test)\n"
      ],
      "metadata": {
        "colab": {
          "base_uri": "https://localhost:8080/"
        },
        "id": "iBYOlBSnPL15",
        "outputId": "f033d639-021d-4ce2-e970-3f5a5389d30b"
      },
      "execution_count": null,
      "outputs": [
        {
          "output_type": "stream",
          "name": "stdout",
          "text": [
            "KNeighborsClassifier:\n",
            "Accuracy: 0.7714285714285715\n",
            "Confusion Matrix:\n",
            " [[17  3]\n",
            " [ 5 10]]\n",
            "F1 Score: 0.7142857142857142\n",
            "Precision: 0.7692307692307693\n",
            "Recall: 0.6666666666666666\n",
            "\n",
            "Cross-Validation Scores (K-Fold): [0.88888889 0.77777778 0.55555556 0.70588235 0.76470588 0.58823529\n",
            " 0.76470588 0.76470588 0.82352941 0.64705882]\n",
            "Mean CV Accuracy: 0.7281045751633987\n",
            "==============================\n"
          ]
        },
        {
          "output_type": "execute_result",
          "data": {
            "text/plain": [
              "(0.7714285714285715,\n",
              " array([[17,  3],\n",
              "        [ 5, 10]]),\n",
              " 0.7142857142857142,\n",
              " 0.7692307692307693,\n",
              " 0.6666666666666666,\n",
              " array([0.88888889, 0.77777778, 0.55555556, 0.70588235, 0.76470588,\n",
              "        0.58823529, 0.76470588, 0.76470588, 0.82352941, 0.64705882]))"
            ]
          },
          "metadata": {},
          "execution_count": 59
        }
      ]
    },
    {
      "cell_type": "code",
      "source": [
        "evaluate_model(decision_tree, X_train, y_train, X_test, y_test)\n"
      ],
      "metadata": {
        "colab": {
          "base_uri": "https://localhost:8080/"
        },
        "id": "jRA692KePQLR",
        "outputId": "f1611f5d-73ad-415c-b9fc-2f82881f7c43"
      },
      "execution_count": null,
      "outputs": [
        {
          "output_type": "stream",
          "name": "stdout",
          "text": [
            "DecisionTreeClassifier:\n",
            "Accuracy: 0.7714285714285715\n",
            "Confusion Matrix:\n",
            " [[14  6]\n",
            " [ 2 13]]\n",
            "F1 Score: 0.7647058823529413\n",
            "Precision: 0.6842105263157895\n",
            "Recall: 0.8666666666666667\n",
            "\n",
            "Cross-Validation Scores (K-Fold): [0.77777778 0.83333333 0.61111111 0.70588235 0.82352941 0.58823529\n",
            " 0.52941176 0.70588235 0.88235294 0.76470588]\n",
            "Mean CV Accuracy: 0.7222222222222222\n",
            "==============================\n"
          ]
        },
        {
          "output_type": "execute_result",
          "data": {
            "text/plain": [
              "(0.7714285714285715,\n",
              " array([[14,  6],\n",
              "        [ 2, 13]]),\n",
              " 0.7647058823529413,\n",
              " 0.6842105263157895,\n",
              " 0.8666666666666667,\n",
              " array([0.77777778, 0.83333333, 0.61111111, 0.70588235, 0.82352941,\n",
              "        0.58823529, 0.52941176, 0.70588235, 0.88235294, 0.76470588]))"
            ]
          },
          "metadata": {},
          "execution_count": 60
        }
      ]
    },
    {
      "cell_type": "code",
      "source": [
        "evaluate_model(naive_bayes, X_train, y_train, X_test, y_test)"
      ],
      "metadata": {
        "colab": {
          "base_uri": "https://localhost:8080/"
        },
        "id": "vVmvQC5zPQOR",
        "outputId": "8b7bad7c-3937-47a8-ab47-bdefe4df9c58"
      },
      "execution_count": null,
      "outputs": [
        {
          "output_type": "stream",
          "name": "stdout",
          "text": [
            "GaussianNB:\n",
            "Accuracy: 0.6857142857142857\n",
            "Confusion Matrix:\n",
            " [[16  4]\n",
            " [ 7  8]]\n",
            "F1 Score: 0.5925925925925926\n",
            "Precision: 0.6666666666666666\n",
            "Recall: 0.5333333333333333\n",
            "\n",
            "Cross-Validation Scores (K-Fold): [0.83333333 0.66666667 0.61111111 0.70588235 0.58823529 0.58823529\n",
            " 0.88235294 0.70588235 0.82352941 0.88235294]\n",
            "Mean CV Accuracy: 0.7287581699346404\n",
            "==============================\n"
          ]
        },
        {
          "output_type": "execute_result",
          "data": {
            "text/plain": [
              "(0.6857142857142857,\n",
              " array([[16,  4],\n",
              "        [ 7,  8]]),\n",
              " 0.5925925925925926,\n",
              " 0.6666666666666666,\n",
              " 0.5333333333333333,\n",
              " array([0.83333333, 0.66666667, 0.61111111, 0.70588235, 0.58823529,\n",
              "        0.58823529, 0.88235294, 0.70588235, 0.82352941, 0.88235294]))"
            ]
          },
          "metadata": {},
          "execution_count": 61
        }
      ]
    },
    {
      "cell_type": "code",
      "source": [],
      "metadata": {
        "id": "d5UHQ4w3PQRM"
      },
      "execution_count": null,
      "outputs": []
    },
    {
      "cell_type": "code",
      "source": [],
      "metadata": {
        "id": "21VaWKovPQUk"
      },
      "execution_count": null,
      "outputs": []
    }
  ]
}