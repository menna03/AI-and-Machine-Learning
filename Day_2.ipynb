{
  "nbformat": 4,
  "nbformat_minor": 0,
  "metadata": {
    "colab": {
      "provenance": []
    },
    "kernelspec": {
      "name": "python3",
      "display_name": "Python 3"
    },
    "language_info": {
      "name": "python"
    }
  },
  "cells": [
    {
      "cell_type": "code",
      "source": [
        "import pandas as pd\n",
        "from collections import defaultdict\n",
        "\n",
        "# Read the CSV files\n",
        "movies_df = pd.read_csv('/content/movies.csv')\n",
        "stars_df = pd.read_csv('/content/stars.csv')\n",
        "people_df = pd.read_csv('/content/people.csv')\n",
        "\n",
        "# Build the graph\n",
        "graph = defaultdict(set)\n",
        "movies = defaultdict(set)\n",
        "\n",
        "# Map movie IDs to actors\n",
        "for _, row in stars_df.iterrows():\n",
        "    actor_id = row['person_id']\n",
        "    movie_id = row['movie_id']\n",
        "    graph[actor_id].add(movie_id)\n",
        "    movies[movie_id].add(actor_id)\n",
        "\n",
        "# Convert person IDs to names\n",
        "person_id_to_name = people_df.set_index('id')['name'].to_dict()\n",
        "name_to_person_id = {name: id for id, name in person_id_to_name.items()}\n"
      ],
      "metadata": {
        "id": "FBYKgBkJityk"
      },
      "execution_count": null,
      "outputs": []
    },
    {
      "cell_type": "code",
      "source": [
        "def find_common_movies(actor_id1, actor_id2):\n",
        "    movies1 = graph[actor_id1]\n",
        "    movies2 = graph[actor_id2]\n",
        "    common_movies = movies1 & movies2\n",
        "    return common_movies\n",
        "\n",
        "# Example usage\n",
        "start_name = 'Tom Cruise'\n",
        "goal_name = 'Kevin Bacon' # 'Cary Elwes'\n",
        "\n",
        "# Convert names to IDs\n",
        "start_actor_id = name_to_person_id[start_name]\n",
        "kevin_bacon_id = name_to_person_id[goal_name]\n",
        "\n",
        "common_movie_ids = find_common_movies(start_actor_id, kevin_bacon_id)\n",
        "\n",
        "# Convert movie IDs to titles\n",
        "if common_movie_ids:\n",
        "    common_movies = [movies_df[movies_df['id'] == movie_id]['title'].values[0] for movie_id in common_movie_ids]\n",
        "    print(\"Common movies between\", start_name, \"and\", goal_name, \":\", \", \".join(common_movies))\n",
        "else:\n",
        "    print(\"No common movies found between\", start_name, \"and\", goal_name)\n"
      ],
      "metadata": {
        "colab": {
          "base_uri": "https://localhost:8080/"
        },
        "id": "xgAzHqXPwriY",
        "outputId": "eaaa637c-c18c-4506-fddb-b281b07dea48"
      },
      "execution_count": null,
      "outputs": [
        {
          "output_type": "stream",
          "name": "stdout",
          "text": [
            "No common movies found between Tom Cruise and Cary Elwes\n"
          ]
        }
      ]
    },
    {
      "cell_type": "code",
      "source": [
        "def find_common_people(actor_id1, actor_id2):\n",
        "    common_people = set()\n",
        "    for movie_id in graph[actor_id1]:\n",
        "        if movie_id in graph[actor_id2]:\n",
        "            common_people.update(movies[movie_id])\n",
        "    # Remove the original actors from the common people list\n",
        "    common_people.discard(actor_id1)\n",
        "    common_people.discard(actor_id2)\n",
        "    return common_people\n",
        "\n",
        "# Example usage\n",
        "common_people_ids = find_common_people(start_actor_id, kevin_bacon_id)\n",
        "\n",
        "# Convert people IDs to names\n",
        "if common_people_ids:\n",
        "    common_people = [person_id_to_name[id] for id in common_people_ids]\n",
        "    print(\"Common people between\", start_name, \"and\", goal_name, \":\", \", \".join(common_people))\n",
        "else:\n",
        "    print(\"No common people found between\", start_name, \"and\", goal_name)\n"
      ],
      "metadata": {
        "colab": {
          "base_uri": "https://localhost:8080/"
        },
        "id": "l4qxxzQXwuzA",
        "outputId": "0483689d-a105-4adf-8e9d-a9c5e2234ae0"
      },
      "execution_count": null,
      "outputs": [
        {
          "output_type": "stream",
          "name": "stdout",
          "text": [
            "No common people found between Tom Cruise and Cary Elwes\n"
          ]
        }
      ]
    },
    {
      "cell_type": "code",
      "source": [],
      "metadata": {
        "id": "y9ZvAZKGwyQ9"
      },
      "execution_count": null,
      "outputs": []
    }
  ]
}