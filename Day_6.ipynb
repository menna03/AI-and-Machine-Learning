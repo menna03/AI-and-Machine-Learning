{
  "nbformat": 4,
  "nbformat_minor": 0,
  "metadata": {
    "colab": {
      "provenance": []
    },
    "kernelspec": {
      "name": "python3",
      "display_name": "Python 3"
    },
    "language_info": {
      "name": "python"
    }
  },
  "cells": [
    {
      "cell_type": "code",
      "source": [
        "import pandas as pd\n",
        "from collections import defaultdict, deque\n",
        "\n",
        "# Load CSV files into DataFrames\n",
        "movies_df = pd.read_csv('/content/movies.csv')\n",
        "stars_df = pd.read_csv('/content/stars.csv')\n",
        "people_df = pd.read_csv('/content/people.csv')\n",
        "\n",
        "# Build the graph\n",
        "graph = defaultdict(set)\n",
        "movies = defaultdict(set)\n",
        "\n",
        "# Map movie IDs to actors and vice versa\n",
        "for _, row in stars_df.iterrows():\n",
        "    actor_id = row['person_id']\n",
        "    movie_id = row['movie_id']\n",
        "    graph[actor_id].add(movie_id)\n",
        "    movies[movie_id].add(actor_id)\n",
        "\n",
        "# Convert person IDs to names\n",
        "person_id_to_name = people_df.set_index('id')['name'].to_dict()\n",
        "name_to_person_id = {name: id for id, name in person_id_to_name.items()}\n"
      ],
      "metadata": {
        "id": "nz5uMfayykAy"
      },
      "execution_count": null,
      "outputs": []
    },
    {
      "cell_type": "code",
      "source": [
        "def bfs_shortest_path(start_id, goal_id):\n",
        "    queue = deque([(start_id, [start_id])])\n",
        "    visited = set()\n",
        "\n",
        "    while queue:\n",
        "        node, path = queue.popleft()\n",
        "        visited.add(node)\n",
        "\n",
        "        if node == goal_id:\n",
        "            return path\n",
        "\n",
        "        for movie_id in graph[node]:\n",
        "            for neighbor in movies[movie_id]:\n",
        "                if neighbor not in visited:\n",
        "                    queue.append((neighbor, path + [neighbor]))\n",
        "                    visited.add(neighbor)\n",
        "\n",
        "    return None\n",
        "\n",
        "# Example usage\n",
        "start_name = 'Tom Cruise'\n",
        "goal_name = 'Cary Elwes'\n",
        "\n",
        "# Convert names to IDs\n",
        "start_actor_id = name_to_person_id[start_name]\n",
        "kevin_bacon_id = name_to_person_id[goal_name]\n",
        "\n",
        "path_ids = bfs_shortest_path(start_actor_id, kevin_bacon_id)\n",
        "\n",
        "# Convert path from IDs to names\n",
        "if path_ids:\n",
        "    path_names = [person_id_to_name[id] for id in path_ids]\n",
        "    print(\"Shortest path using BFS:\", \" -> \".join(path_names))\n",
        "else:\n",
        "    print(\"No path found using BFS.\")\n"
      ],
      "metadata": {
        "colab": {
          "base_uri": "https://localhost:8080/"
        },
        "id": "zAdZl5_eyodn",
        "outputId": "4106e5ba-f9b2-48da-b503-3af2faee75f4"
      },
      "execution_count": null,
      "outputs": [
        {
          "output_type": "stream",
          "name": "stdout",
          "text": [
            "Shortest path using BFS: Tom Cruise -> Kevin Bacon -> Gary Sinise -> Robin Wright -> Cary Elwes\n"
          ]
        }
      ]
    },
    {
      "cell_type": "code",
      "source": [
        "def dfs_paths(start_id, goal_id):\n",
        "    stack = [(start_id, [start_id])]\n",
        "    visited = set()\n",
        "    paths = []\n",
        "\n",
        "    while stack:\n",
        "        node, path = stack.pop()\n",
        "\n",
        "        if node in visited:\n",
        "            continue\n",
        "        visited.add(node)\n",
        "\n",
        "        if node == goal_id:\n",
        "            paths.append(path)\n",
        "            continue\n",
        "\n",
        "        for movie_id in graph[node]:\n",
        "            for neighbor in movies[movie_id]:\n",
        "                if neighbor not in visited:\n",
        "                    stack.append((neighbor, path + [neighbor]))\n",
        "\n",
        "    return paths\n",
        "\n",
        "# Example usage\n",
        "paths_ids = dfs_paths(start_actor_id, kevin_bacon_id)\n",
        "\n",
        "# Convert paths from IDs to names\n",
        "if paths_ids:\n",
        "    for i, path_ids in enumerate(paths_ids):\n",
        "        path_names = [person_id_to_name[id] for id in path_ids]\n",
        "        print(f\"Path {i+1} using DFS:\", \" -> \".join(path_names))\n",
        "else:\n",
        "    print(\"No paths found using DFS.\")\n"
      ],
      "metadata": {
        "colab": {
          "base_uri": "https://localhost:8080/"
        },
        "id": "oco210cXyoj6",
        "outputId": "3c8a309e-7834-430b-984c-60afeaf69887"
      },
      "execution_count": null,
      "outputs": [
        {
          "output_type": "stream",
          "name": "stdout",
          "text": [
            "Path 1 using DFS: Tom Cruise -> Kevin Bacon -> Tom Hanks -> Robin Wright -> Mandy Patinkin -> Chris Sarandon -> Cary Elwes\n"
          ]
        }
      ]
    },
    {
      "cell_type": "code",
      "source": [],
      "metadata": {
        "id": "8dxTMA_Oyvas"
      },
      "execution_count": null,
      "outputs": []
    }
  ]
}