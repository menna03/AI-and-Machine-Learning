{
  "nbformat": 4,
  "nbformat_minor": 0,
  "metadata": {
    "colab": {
      "provenance": []
    },
    "kernelspec": {
      "name": "python3",
      "display_name": "Python 3"
    },
    "language_info": {
      "name": "python"
    }
  },
  "cells": [
    {
      "cell_type": "markdown",
      "source": [
        "# 7"
      ],
      "metadata": {
        "id": "6Kkla34JGNXy"
      }
    },
    {
      "cell_type": "markdown",
      "source": [
        "## Task 1"
      ],
      "metadata": {
        "id": "qTPT9yRIIxNv"
      }
    },
    {
      "cell_type": "code",
      "source": [
        "import numpy as np\n",
        "\n",
        "# Dataset of points\n",
        "points = np.array([\n",
        "    [51, 92, 14, 71, 60],\n",
        "    [20, 82, 86, 74, 70],\n",
        "    [10, 84, 70, 33, 61],\n",
        "    [75, 98, 56, 83, 41],\n",
        "    [56, 92, 48, 37, 80],\n",
        "    [28, 46, 93, 54, 22],\n",
        "    [62, 99, 74, 50, 20],\n",
        "    [21, 84, 77, 96, 19],\n",
        "    [63, 29, 71, 48, 88],\n",
        "    [17, 11, 94, 22, 48],\n",
        "    [93, 66, 58, 54, 10],\n",
        "    [71, 96, 87, 35, 99],\n",
        "    [50, 82, 12, 73, 31],\n",
        "    [83, 64, 50, 72, 19],\n",
        "    [96, 53, 19, 60, 90],\n",
        "    [25, 68, 42, 55, 94],\n",
        "    [47, 81, 99, 72, 63],\n",
        "    [52, 35, 40, 91, 12],\n",
        "    [64, 58, 36, 22, 78],\n",
        "    [89, 46, 68, 94, 21]\n",
        "])\n",
        "\n",
        "# Query point\n",
        "query_point = np.array([63, 45, 76, 32, 14])\n",
        "\n",
        "# Define distance functions\n",
        "def euclidean_distance(p1, p2):\n",
        "    return np.sqrt(np.sum((p1 - p2) ** 2))\n",
        "\n",
        "def manhattan_distance(p1, p2):\n",
        "    return np.sum(np.abs(p1 - p2))\n",
        "\n",
        "def chebyshev_distance(p1, p2):\n",
        "    return np.max(np.abs(p1 - p2))\n",
        "\n",
        "# Find the nearest point using each distance metric\n",
        "def find_nearest_point(points, query_point, distance_func):\n",
        "    distances = np.array([distance_func(point, query_point) for point in points])\n",
        "    nearest_index = np.argmin(distances)\n",
        "    return nearest_index, distances[nearest_index]\n",
        "\n",
        "# Calculate the nearest points using each distance metric\n",
        "euclidean_idx, euclidean_dist = find_nearest_point(points, query_point, euclidean_distance)\n",
        "manhattan_idx, manhattan_dist = find_nearest_point(points, query_point, manhattan_distance)\n",
        "chebyshev_idx, chebyshev_dist = find_nearest_point(points, query_point, chebyshev_distance)\n",
        "\n",
        "# Display results\n",
        "print(f\"Nearest point using Euclidean distance: {points[euclidean_idx]}, Distance: {euclidean_dist:.4f}\")\n",
        "print(f\"Nearest point using Manhattan distance: {points[manhattan_idx]}, Distance: {manhattan_dist:.4f}\")\n",
        "print(f\"Nearest point using Chebyshev distance: {points[chebyshev_idx]}, Distance: {chebyshev_dist:.4f}\")\n"
      ],
      "metadata": {
        "colab": {
          "base_uri": "https://localhost:8080/"
        },
        "id": "ZMWFe0omHAvR",
        "outputId": "b710314e-9d0c-4ac0-9a37-027b0a2b7722"
      },
      "execution_count": null,
      "outputs": [
        {
          "output_type": "stream",
          "name": "stdout",
          "text": [
            "Nearest point using Euclidean distance: [28 46 93 54 22], Distance: 45.4203\n",
            "Nearest point using Manhattan distance: [62 99 74 50 20], Distance: 81.0000\n",
            "Nearest point using Chebyshev distance: [93 66 58 54 10], Distance: 30.0000\n"
          ]
        }
      ]
    },
    {
      "cell_type": "markdown",
      "source": [
        "## Task 2"
      ],
      "metadata": {
        "id": "NBr5IUq_IzJV"
      }
    },
    {
      "cell_type": "code",
      "source": [
        "import pandas as pd\n",
        "import numpy as np\n",
        "from sklearn.preprocessing import StandardScaler\n",
        "\n",
        "# Load the dataset\n",
        "file_path = '/content/Breast_cancer_data.csv'  # Update with the actual file path if needed\n",
        "df = pd.read_csv(file_path)\n",
        "\n",
        "# Separate features and diagnosis label\n",
        "X = df.drop(columns=['diagnosis']).values  # Features\n",
        "y = df['diagnosis'].values  # Labels\n",
        "\n",
        "# Normalize the data (important for distance-based methods)\n",
        "scaler = StandardScaler()\n",
        "X_normalized = scaler.fit_transform(X)\n",
        "\n",
        "# Choose a query sample (e.g., the first sample in the dataset)\n",
        "query_sample = X_normalized[0]\n",
        "\n",
        "# Define distance functions\n",
        "def euclidean_distance(p1, p2):\n",
        "    return np.sqrt(np.sum((p1 - p2) ** 2))\n",
        "\n",
        "def manhattan_distance(p1, p2):\n",
        "    return np.sum(np.abs(p1 - p2))\n",
        "\n",
        "def chebyshev_distance(p1, p2):\n",
        "    return np.max(np.abs(p1 - p2))\n",
        "\n",
        "# Calculate distances using the distance functions\n",
        "def calculate_distances(X, query_sample, distance_func):\n",
        "    distances = np.array([distance_func(sample, query_sample) for sample in X])\n",
        "    return distances\n",
        "\n",
        "# Find the nearest neighbors using each distance metric\n",
        "def find_nearest_neighbors(X, query_sample, distance_func, k=5):\n",
        "    distances = calculate_distances(X, query_sample, distance_func)\n",
        "    nearest_indices = np.argsort(distances)[:k]\n",
        "    return nearest_indices, distances[nearest_indices]\n",
        "\n",
        "# Number of neighbors to find\n",
        "k = 5\n",
        "\n",
        "\n"
      ],
      "metadata": {
        "id": "fkdxtGmYI869"
      },
      "execution_count": null,
      "outputs": []
    },
    {
      "cell_type": "code",
      "source": [
        "# Euclidean nearest neighbors\n",
        "euclidean_neighbors, euclidean_distances = find_nearest_neighbors(X_normalized, query_sample, euclidean_distance, k)\n",
        "print(f\"Nearest neighbors using Euclidean distance:\\n{df.iloc[euclidean_neighbors]}\\nDistances: {euclidean_distances}\\n\")"
      ],
      "metadata": {
        "colab": {
          "base_uri": "https://localhost:8080/"
        },
        "id": "VrU2hNraI9B4",
        "outputId": "12c883be-91d6-47ef-f473-fd5d1ade7f64"
      },
      "execution_count": null,
      "outputs": [
        {
          "output_type": "stream",
          "name": "stdout",
          "text": [
            "Nearest neighbors using Euclidean distance:\n",
            "    mean_radius  mean_texture  mean_perimeter  mean_area  mean_smoothness  \\\n",
            "0         17.99         10.38           122.8     1001.0          0.11840   \n",
            "25        17.14         16.40           116.0      912.7          0.11860   \n",
            "77        18.05         16.15           120.2     1006.0          0.10650   \n",
            "29        17.57         15.05           115.0      955.1          0.09847   \n",
            "22        15.34         14.26           102.5      704.4          0.10730   \n",
            "\n",
            "    diagnosis  \n",
            "0           0  \n",
            "25          0  \n",
            "77          0  \n",
            "29          0  \n",
            "22          0  \n",
            "Distances: [0.         1.67071572 1.78574732 1.9980517  2.00743146]\n",
            "\n"
          ]
        }
      ]
    },
    {
      "cell_type": "markdown",
      "source": [],
      "metadata": {
        "id": "3CnWMIFj4N9W"
      }
    },
    {
      "cell_type": "code",
      "source": [
        "# Manhattan nearest neighbors\n",
        "manhattan_neighbors, manhattan_distances = find_nearest_neighbors(X_normalized, query_sample, manhattan_distance, k)\n",
        "print(f\"Nearest neighbors using Manhattan distance:\\n{df.iloc[manhattan_neighbors]}\\nDistances: {manhattan_distances}\\n\")"
      ],
      "metadata": {
        "colab": {
          "base_uri": "https://localhost:8080/"
        },
        "id": "byQyoksTJcca",
        "outputId": "44882daf-5f3d-4cc1-ede3-80189fdbd8d4"
      },
      "execution_count": null,
      "outputs": [
        {
          "output_type": "stream",
          "name": "stdout",
          "text": [
            "Nearest neighbors using Manhattan distance:\n",
            "    mean_radius  mean_texture  mean_perimeter  mean_area  mean_smoothness  \\\n",
            "0         17.99         10.38           122.8     1001.0           0.1184   \n",
            "25        17.14         16.40           116.0      912.7           0.1186   \n",
            "77        18.05         16.15           120.2     1006.0           0.1065   \n",
            "53        18.22         18.70           120.3     1033.0           0.1148   \n",
            "45        18.65         17.60           123.7     1076.0           0.1099   \n",
            "\n",
            "    diagnosis  \n",
            "0           0  \n",
            "25          0  \n",
            "77          0  \n",
            "53          0  \n",
            "45          0  \n",
            "Distances: [0.         2.43956323 2.58600785 2.76363201 3.03755831]\n",
            "\n"
          ]
        }
      ]
    },
    {
      "cell_type": "code",
      "source": [
        "# Chebyshev nearest neighbors\n",
        "chebyshev_neighbors, chebyshev_distances = find_nearest_neighbors(X_normalized, query_sample, chebyshev_distance, k)\n",
        "print(f\"Nearest neighbors using Chebyshev distance:\\n{df.iloc[chebyshev_neighbors]}\\nDistances: {chebyshev_distances}\\n\")"
      ],
      "metadata": {
        "colab": {
          "base_uri": "https://localhost:8080/"
        },
        "id": "wTYkx4woJd1a",
        "outputId": "90c88294-01b8-4d13-8ec7-002112d0c5c4"
      },
      "execution_count": null,
      "outputs": [
        {
          "output_type": "stream",
          "name": "stdout",
          "text": [
            "Nearest neighbors using Chebyshev distance:\n",
            "    mean_radius  mean_texture  mean_perimeter  mean_area  mean_smoothness  \\\n",
            "0         17.99         10.38          122.80     1001.0           0.1184   \n",
            "22        15.34         14.26          102.50      704.4           0.1073   \n",
            "89        14.64         15.24           95.77      651.9           0.1132   \n",
            "4         20.29         14.34          135.10     1297.0           0.1003   \n",
            "73        13.80         15.79           90.43      584.1           0.1007   \n",
            "\n",
            "    diagnosis  \n",
            "0           0  \n",
            "22          0  \n",
            "89          1  \n",
            "4           0  \n",
            "73          0  \n",
            "Distances: [0.         1.03214323 1.2928392  1.37715825 1.43914816]\n",
            "\n"
          ]
        }
      ]
    },
    {
      "cell_type": "code",
      "source": [],
      "metadata": {
        "id": "6XGCeBqZJeRU"
      },
      "execution_count": null,
      "outputs": []
    }
  ]
}